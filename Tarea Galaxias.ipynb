{
 "cells": [
  {
   "cell_type": "markdown",
   "metadata": {},
   "source": [
    "# Tarea Galaxias, Modelado Matemático \n",
    "\n",
    "## Lizeth Daniela Jaimes González "
   ]
  },
  {
   "cell_type": "code",
   "execution_count": 1,
   "metadata": {},
   "outputs": [],
   "source": [
    "# Se importan las librerías que se van a utilizar \n",
    "\n",
    "from numpy.fft import fftshift, rfft2, irfft2\n",
    "import os\n",
    "import numpy as np\n",
    "import matplotlib.pyplot as plt\n",
    "from astropy.io import fits"
   ]
  },
  {
   "cell_type": "markdown",
   "metadata": {},
   "source": [
    " Se tiene:\\\n",
    "    * 9 imagenes de galaxias.\\\n",
    "\t* 9 bandas por imagen.\\\n",
    "\t* Para cada (imagen_galaxia,banda) hay un mapa de pesos 'w_map' \\\n",
    "\t* **Ojo**. .sci (imagenes), .wht (w_maps).\\\n",
    "\t* Cada banda tiene una resolución distinta y un $\\sigma$ asociado."
   ]
  },
  {
   "cell_type": "code",
   "execution_count": 2,
   "metadata": {},
   "outputs": [],
   "source": [
    "# Inicialmente, se le asocia a cada banda su sigma asociado\n",
    "sigma_b = {\"105\":1.47,\n",
    "           \"125\":1.49,\n",
    "           \"140\":1.55,\n",
    "           \"160\":1.56,\n",
    "           \"435\":0.78,\n",
    "           \"606\":0.95,\n",
    "           \"775\":0.87,\n",
    "           \"814\":0.91,\n",
    "           \"850\":0.85 }\n",
    "\n",
    "class Galaxia ():\n",
    "# Se crea la clase Galaxia con su constructor init() con los atributos:\n",
    "# número de la galaxia y número de banda que queremos analizar, respectivamente.\n",
    "    def __init__(self, num_galaxia, num_banda):\n",
    "        self.num_galaxia = num_galaxia\n",
    "        self.num_banda = num_banda        \n",
    "        self.sigma = sigma_b[str(self.num_banda)]  #Se asocia el número de la banda con su respectivo sigma del diccionario 'sigma_b'\n",
    "        \n",
    "        print(f'Se ha escogido la galaxia {self.num_galaxia}, la banda {self.num_banda} y su respectivo sigma de {self.sigma}')\n",
    "\n",
    "#Se crean métodos estáticos para revisar los galaxias y bandas que podemos analizar\n",
    "    @staticmethod\n",
    "    def galaxias_existentes():      \n",
    "        return [3, 15, 37, 912, 919, 937, 943, 982, 1002]\n",
    "    \n",
    "    @staticmethod\n",
    "    def bandas_existentes():     \n",
    "        return [105, 125, 140, 160, 435, 606, 775, 814, 850]\n",
    "\n",
    "#Después de particularizar nuestro problema a una galaxia y cierta banda con su respectivo sigma, se va generar la imagen\n",
    "#Para eso se crea una subclase de Galaxia llamada Produccion_imagen y se agrega el atributo: modo\n",
    "        \n",
    "class Produccion_imagen(Galaxia):\n",
    "#Ahora se va escoger si se quiere trabajar con las imagenes (sci) o con el mapa de peso (wht), para esto, adoptamos los atributos \n",
    "#de la clase base y en el atributo nuevo: modo, se escogerá sci o wht\n",
    "\n",
    "    def __init__(self, num_galaxia, num_banda, modo):\n",
    "        super(Produccion_imagen, self).__init__(num_galaxia, num_banda) #Aquí adoptamos los atributos de la clase Galaxia\n",
    "        self.modo = modo\n",
    "        \n",
    "        print(f'Para la producción de la imagen se ha escogido la extensión .{self.modo}')\n",
    "        \n",
    "#La banda 850 está escrita de manera diferente, entonces especificamos esa diferencia en un if       \n",
    "    def caso_especial(self, num_banda):\n",
    "        if num_banda == 850:\n",
    "            self.caso = 'lp'\n",
    "        else:\n",
    "            self.caso = 'w'\n",
    "        \n",
    "        return self.caso\n",
    "    \n",
    "#Ahora sí es posible generar la imagen a partir de los anteriores atributos         \n",
    "    def imagen(self, num_galaxia, num_banda, modo):\n",
    "        self.caso = self.caso_especial(num_banda)\n",
    "        self.data = fits.open('./images_hubble/'+str(num_galaxia)+'_60mas_f'+str(num_banda)+str(self.caso_especial(num_banda))+'_'+str(modo)+'.fits')[0].data\n",
    "        plt.title(f'Galaxia {self.num_galaxia} con la banda {self.num_banda}') #Así creamos el nombre del archívo que se encuentra en la carpeta 'images_hubble'\n",
    "        plt.imshow(np.log10(data))\n",
    "        return self.data\n",
    "    \n",
    "#Se crea un método estático para revisar los modos de imagen que podemos graficar   \n",
    "    @staticmethod\n",
    "    def modo_existentes():     \n",
    "        return ['sci', 'wht']    \n",
    "    \n",
    "#Finalmente creamos una subclase que dependa de las dos clases anteriores, para crear las convoluciones y poder comparar entre imagenes\n",
    "#Para eso agregamos el atributo banda2 que tiene asociado su respectivo sigma2\n",
    "\n",
    "class Convoluciones(Produccion_imagen):\n",
    "    \n",
    "    def __init__(self, num_galaxia, num_banda, modo, num_banda2):\n",
    "        super(Convoluciones, self).__init__(num_galaxia, num_banda, modo)  \n",
    "        \n",
    "# Función que genera la convolución de la imagen       \n",
    "\n",
    "    def direct_convolution(data,sigma,kernel_square=False):\n",
    "        FWHM = sigma * (2 * np.sqrt(2 * np.log(2)))\n",
    "        FWHM = np.int(FWHM)+1\n",
    "        data2 = np.zeros((data.shape[0] + 2 * FWHM, data.shape[1] + 2 * FWHM))\n",
    "        data2[FWHM:data.shape[0] + FWHM, FWHM:data.shape[1] + FWHM] = data\n",
    "        y, x = np.indices((data2.shape))\n",
    "        psf = (1. / (2 * np.pi * sigma ** 2)) * np.exp(-((x - data2.shape[1] / 2) ** 2 + (y - data2.shape[0] / 2) ** 2) / (2.0 * sigma ** 2))\n",
    "        psf /= psf.sum()  # normalisation PSF\n",
    "        if kernel_square:\n",
    "            psf = psf**2\n",
    "        psf_shift = fftshift(psf)\n",
    "        data_conv = irfft2(rfft2(data2) * rfft2(psf_shift))\n",
    "        data_conv = data_conv[FWHM:data.shape[0] + FWHM, FWHM:data.shape[1] + FWHM]\n",
    "        return data_conv\n",
    "    \n",
    "# Función para comparar con otra banda dada en esta clase      \n",
    "\n",
    "    def comparar(self, num_banda2):\n",
    "        self.num_banda2 = num_banda2\n",
    "        self.sigma2 = sigma_b[str(self.num_banda2)]\n",
    "        self.sigma_t = np.sqrt(np.abs(self.sigma2** 2 - self.sigma**2))\n",
    "        print(f'Se va comparar con la banda: {self.num_banda2} y su respectivo sigma: {self.sigma2}')\n",
    "        \n",
    "        imagen_suavizada = direct_convolution(data,self.sigma_t,kernel_square=False)\n",
    "        plt.title(f'Galaxia {self.num_galaxia} con el sigma total {self.sigma_t}')\n",
    "        plt.imshow(np.log10(data))\n",
    "        \n",
    "# Se pasa de un mapa de pesos a uno de varianzas con el inverso     \n",
    "    def varianza(self):\n",
    "        self.wht = fits.open('./images_hubble/'+str(num_galaxia)+'_60mas_f'+str(num_banda)+str(self.caso_especial(num_banda))+'_'+'wht'+'.fits')[0].data\n",
    "        self.varianza = 1. / self.wht"
   ]
  },
  {
   "cell_type": "code",
   "execution_count": 3,
   "metadata": {},
   "outputs": [
    {
     "name": "stdout",
     "output_type": "stream",
     "text": [
      "Se ha escogido la galaxia 15, la banda 125 y su respectivo sigma de 1.49\n"
     ]
    }
   ],
   "source": [
    "# Se escoge la instancia galaxia_1 que corresponde a la número 15 con la banda 125\n",
    "galaxia_1 = Galaxia(15, 125)"
   ]
  },
  {
   "cell_type": "code",
   "execution_count": 4,
   "metadata": {},
   "outputs": [
    {
     "data": {
      "text/plain": [
       "1.49"
      ]
     },
     "execution_count": 4,
     "metadata": {},
     "output_type": "execute_result"
    }
   ],
   "source": [
    "#Se verifica el sigma correspondiente a esa banda\n",
    "galaxia_1.sigma"
   ]
  },
  {
   "cell_type": "code",
   "execution_count": 5,
   "metadata": {},
   "outputs": [
    {
     "data": {
      "text/plain": [
       "[3, 15, 37, 912, 919, 937, 943, 982, 1002]"
      ]
     },
     "execution_count": 5,
     "metadata": {},
     "output_type": "execute_result"
    }
   ],
   "source": [
    "#Se revisan las galaxias y bandas existentes\n",
    "galaxia_1.galaxias_existentes()"
   ]
  },
  {
   "cell_type": "code",
   "execution_count": 6,
   "metadata": {},
   "outputs": [
    {
     "data": {
      "text/plain": [
       "[105, 125, 140, 160, 435, 606, 775, 814, 850]"
      ]
     },
     "execution_count": 6,
     "metadata": {},
     "output_type": "execute_result"
    }
   ],
   "source": [
    "galaxia_1.bandas_existentes()"
   ]
  },
  {
   "cell_type": "code",
   "execution_count": 7,
   "metadata": {},
   "outputs": [
    {
     "name": "stdout",
     "output_type": "stream",
     "text": [
      "Se ha escogido la galaxia 15, la banda 125 y su respectivo sigma de 1.49\n",
      "Para la producción de la imagen se ha escogido la extensión .sci\n"
     ]
    }
   ],
   "source": [
    "#Ahora se crea la instancia galaxia_2 para producir una imagen, es decir, se escoge como parte de la subclase Produccion_imagen\n",
    "galaxia_2 = Produccion_imagen(15, 125, 'sci')"
   ]
  },
  {
   "cell_type": "code",
   "execution_count": 8,
   "metadata": {},
   "outputs": [
    {
     "data": {
      "text/plain": [
       "['sci', 'wht']"
      ]
     },
     "execution_count": 8,
     "metadata": {},
     "output_type": "execute_result"
    }
   ],
   "source": [
    "#Se revisan los modos existentes \n",
    "galaxia_2.modo_existentes()"
   ]
  },
  {
   "cell_type": "code",
   "execution_count": 9,
   "metadata": {},
   "outputs": [
    {
     "data": {
      "text/plain": [
       "'w'"
      ]
     },
     "execution_count": 9,
     "metadata": {},
     "output_type": "execute_result"
    }
   ],
   "source": [
    "#Se puede revisar la extensión de la banda\n",
    "galaxia_2.caso_especial(125)"
   ]
  },
  {
   "cell_type": "code",
   "execution_count": 10,
   "metadata": {},
   "outputs": [
    {
     "ename": "NameError",
     "evalue": "name 'data' is not defined",
     "output_type": "error",
     "traceback": [
      "\u001b[0;31m---------------------------------------------------------------------------\u001b[0m",
      "\u001b[0;31mNameError\u001b[0m                                 Traceback (most recent call last)",
      "\u001b[0;32m<ipython-input-10-cf658e41126b>\u001b[0m in \u001b[0;36m<module>\u001b[0;34m\u001b[0m\n\u001b[1;32m      1\u001b[0m \u001b[0;31m#Graficamos la galaxia_2 que corresponde a la número 15 con la banda 125 y el modo 'sci'\u001b[0m\u001b[0;34m\u001b[0m\u001b[0;34m\u001b[0m\u001b[0;34m\u001b[0m\u001b[0m\n\u001b[0;32m----> 2\u001b[0;31m \u001b[0mgalaxia_2\u001b[0m\u001b[0;34m.\u001b[0m\u001b[0mimagen\u001b[0m\u001b[0;34m(\u001b[0m\u001b[0;36m15\u001b[0m\u001b[0;34m,\u001b[0m \u001b[0;36m125\u001b[0m\u001b[0;34m,\u001b[0m \u001b[0;34m'sci'\u001b[0m\u001b[0;34m)\u001b[0m\u001b[0;34m\u001b[0m\u001b[0;34m\u001b[0m\u001b[0m\n\u001b[0m",
      "\u001b[0;32m<ipython-input-2-63cd76870fc0>\u001b[0m in \u001b[0;36mimagen\u001b[0;34m(self, num_galaxia, num_banda, modo)\u001b[0m\n\u001b[1;32m     56\u001b[0m         \u001b[0mself\u001b[0m\u001b[0;34m.\u001b[0m\u001b[0mdata\u001b[0m \u001b[0;34m=\u001b[0m \u001b[0mfits\u001b[0m\u001b[0;34m.\u001b[0m\u001b[0mopen\u001b[0m\u001b[0;34m(\u001b[0m\u001b[0;34m'./images_hubble/'\u001b[0m\u001b[0;34m+\u001b[0m\u001b[0mstr\u001b[0m\u001b[0;34m(\u001b[0m\u001b[0mnum_galaxia\u001b[0m\u001b[0;34m)\u001b[0m\u001b[0;34m+\u001b[0m\u001b[0;34m'_60mas_f'\u001b[0m\u001b[0;34m+\u001b[0m\u001b[0mstr\u001b[0m\u001b[0;34m(\u001b[0m\u001b[0mnum_banda\u001b[0m\u001b[0;34m)\u001b[0m\u001b[0;34m+\u001b[0m\u001b[0mstr\u001b[0m\u001b[0;34m(\u001b[0m\u001b[0mself\u001b[0m\u001b[0;34m.\u001b[0m\u001b[0mcaso_especial\u001b[0m\u001b[0;34m(\u001b[0m\u001b[0mnum_banda\u001b[0m\u001b[0;34m)\u001b[0m\u001b[0;34m)\u001b[0m\u001b[0;34m+\u001b[0m\u001b[0;34m'_'\u001b[0m\u001b[0;34m+\u001b[0m\u001b[0mstr\u001b[0m\u001b[0;34m(\u001b[0m\u001b[0mmodo\u001b[0m\u001b[0;34m)\u001b[0m\u001b[0;34m+\u001b[0m\u001b[0;34m'.fits'\u001b[0m\u001b[0;34m)\u001b[0m\u001b[0;34m[\u001b[0m\u001b[0;36m0\u001b[0m\u001b[0;34m]\u001b[0m\u001b[0;34m.\u001b[0m\u001b[0mdata\u001b[0m\u001b[0;34m\u001b[0m\u001b[0;34m\u001b[0m\u001b[0m\n\u001b[1;32m     57\u001b[0m         \u001b[0mplt\u001b[0m\u001b[0;34m.\u001b[0m\u001b[0mtitle\u001b[0m\u001b[0;34m(\u001b[0m\u001b[0;34mf'Galaxia {self.num_galaxia} con la banda {self.num_banda}'\u001b[0m\u001b[0;34m)\u001b[0m \u001b[0;31m#Así creamos el nombre del archívo que se encuentra en la carpeta 'images_hubble'\u001b[0m\u001b[0;34m\u001b[0m\u001b[0;34m\u001b[0m\u001b[0m\n\u001b[0;32m---> 58\u001b[0;31m         \u001b[0mplt\u001b[0m\u001b[0;34m.\u001b[0m\u001b[0mimshow\u001b[0m\u001b[0;34m(\u001b[0m\u001b[0mnp\u001b[0m\u001b[0;34m.\u001b[0m\u001b[0mlog10\u001b[0m\u001b[0;34m(\u001b[0m\u001b[0mdata\u001b[0m\u001b[0;34m)\u001b[0m\u001b[0;34m)\u001b[0m\u001b[0;34m\u001b[0m\u001b[0;34m\u001b[0m\u001b[0m\n\u001b[0m\u001b[1;32m     59\u001b[0m         \u001b[0;32mreturn\u001b[0m \u001b[0mself\u001b[0m\u001b[0;34m.\u001b[0m\u001b[0mdata\u001b[0m\u001b[0;34m\u001b[0m\u001b[0;34m\u001b[0m\u001b[0m\n\u001b[1;32m     60\u001b[0m \u001b[0;34m\u001b[0m\u001b[0m\n",
      "\u001b[0;31mNameError\u001b[0m: name 'data' is not defined"
     ]
    },
    {
     "data": {
      "image/png": "[encoded data removed]",
      "text/plain": [
       "<Figure size 432x288 with 1 Axes>"
      ]
     },
     "metadata": {
      "needs_background": "light"
     },
     "output_type": "display_data"
    }
   ],
   "source": [
    "#Graficamos la galaxia_2 que corresponde a la número 15 con la banda 125 y el modo 'sci'\n",
    "galaxia_2.imagen(15, 125, 'sci')"
   ]
  },
  {
   "cell_type": "code",
   "execution_count": null,
   "metadata": {},
   "outputs": [],
   "source": [
    "galaxia_3 = Convoluciones(15, 125, 'sci', 435)"
   ]
  },
  {
   "cell_type": "code",
   "execution_count": null,
   "metadata": {},
   "outputs": [],
   "source": [
    "galaxia_3.comparar(435)"
   ]
  },
  {
   "cell_type": "code",
   "execution_count": null,
   "metadata": {},
   "outputs": [],
   "source": []
  }
 ],
 "metadata": {
  "kernelspec": {
   "display_name": "Python 3",
   "language": "python",
   "name": "python3"
  },
  "language_info": {
   "codemirror_mode": {
    "name": "ipython",
    "version": 3
   },
   "file_extension": ".py",
   "mimetype": "text/x-python",
   "name": "python",
   "nbconvert_exporter": "python",
   "pygments_lexer": "ipython3",
   "version": "3.8.5"
  }
 },
 "nbformat": 4,
 "nbformat_minor": 4
}
